{
 "cells": [
  {
   "cell_type": "markdown",
   "metadata": {},
   "source": [
    "# Subplotting\n",
    "\n",
    "Sometimes we need more than one plot, we might want to compare 3 similar graphs or show an evolution.  \n",
    "To do so we can create subplots in our `figure` object to create a **grid** of plots.\n",
    "\n",
    "<img src=\"https://matplotlib.org/stable/_images/sphx_glr_axes_margins_001.png\" alt=\"subplot\" width=400>\n",
    "\n",
    "### Side by side plot\n",
    "\n",
    "Change the following code to show the two barplots **side by side**.\n",
    "To do this use the [plt.subplots()](https://matplotlib.org/stable/api/_as_gen/matplotlib.pyplot.subplots.html) function.\n",
    "\n",
    "<details>\n",
    "  <summary>💡Hint</summary>\n",
    "  <p>You will need to use axes.</p>\n",
    "</details>"
   ]
  },
  {
   "cell_type": "code",
   "execution_count": null,
   "metadata": {},
   "outputs": [],
   "source": [
    "import matplotlib.pyplot as plt\n",
    "import numpy as np\n",
    "\n",
    "wallet_2015 = {\"currency\": [\"bitcoin\",\"ethereum\",\"euro\"], \"value_in_euro\": [234,74,530]}\n",
    "wallet_2020 = {\"currency\": [\"bitcoin\",\"ethereum\",\"euro\"], \"value_in_euro\": [234*4,74*7,530*1.3]}\n",
    "\n",
    "# CHANGE THE FOLLOWING CODE\n",
    "plt.bar(wallet_2015[\"currency\"], wallet_2015[\"value_in_euro\"])\n",
    "plt.show()\n",
    "plt.bar(wallet_2020[\"currency\"], wallet_2020[\"value_in_euro\"])\n",
    "plt.show();"
   ]
  },
  {
   "cell_type": "code",
   "execution_count": null,
   "metadata": {
    "tags": [
     "challengify"
    ]
   },
   "outputs": [],
   "source": [
    "# YOUR CODE HERE"
   ]
  },
  {
   "cell_type": "markdown",
   "metadata": {},
   "source": [
    "### Matrix plot\n",
    "\n",
    "Execute the cell below to load the data."
   ]
  },
  {
   "cell_type": "code",
   "execution_count": null,
   "metadata": {},
   "outputs": [],
   "source": [
    "import pandas as pd\n",
    "url = \"https://wagon-public-datasets.s3.amazonaws.com/02-Data-Toolkit/03-Data-Visualization/portfolio.csv\"\n",
    "wallets = pd.read_csv(url, index_col='year')\n",
    "wallets"
   ]
  },
  {
   "cell_type": "markdown",
   "metadata": {},
   "source": [
    "Make a 2 by 3 plot to show the prices for each year individually like in the example below.\n",
    "\n",
    "<img src=\"https://wagon-public-datasets.s3.amazonaws.com/data-science-images/02-Data-Toolkit/03-Data-Visualization/subplot-two-by-three.png\" alt=\"subplot\" width=400>\n",
    "\n",
    "You can again use the `plt.subplots()`.\n",
    "\n",
    "Remember the DRY principle? Don't Repeat Yourself: do not write 6 very similar lines of code. Be smarter!\n",
    "\n",
    "<details>\n",
    "  <summary>💡Hint</summary>\n",
    "\n",
    "  Inspect the `axes` object that `plt.subplots()` returns.\n",
    "  It's a NumPy array of AxesSubplot, with a shape of 2 by 3. If you flatten it, you can easily loop over it to plot your charts.\n",
    "\n",
    "  ```\n",
    "  for i, ax in enumerate(axes.flatten()):\n",
    "  ```\n",
    "\n",
    "</details>"
   ]
  },
  {
   "cell_type": "code",
   "execution_count": null,
   "metadata": {},
   "outputs": [],
   "source": [
    "# Create a 2x3 subplot\n",
    "pass  # YOUR CODE HERE\n",
    "\n",
    "# Loop over all the axes\n",
    "pass  # YOUR CODE HERE\n",
    "    # Use i to select the correct row in the wallet DataFrame (hint: wallets.iloc)\n",
    "    # Use ax.bar() to plot the data\n",
    "    # Use i and ax.set_title() to set the title with the year (hint: wallets.index)\n",
    "    pass  # YOUR CODE HERE"
   ]
  },
  {
   "cell_type": "markdown",
   "metadata": {},
   "source": [
    "🚀 Congratulations! You now master all the essential subplotting skills you need.\n",
    "\n",
    "Now, move on to the next challenge.\n",
    "\n",
    "**Only come back to the rest of this challenge, when you have finished the mandatory challenges.**"
   ]
  },
  {
   "cell_type": "markdown",
   "metadata": {},
   "source": [
    "### [Optional] Custom layout\n",
    "\n",
    "In the following code we have a third graph that we want to print along side the two barplots.\n",
    "\n",
    "This time our layout is a bit more complex and should look like this:\n",
    "\n",
    "<img src=\"https://i.ibb.co/KDTrv3X/Screen-Shot-2020-01-21-at-22-17-50.png\" alt=\"2 row, 2 col grid, with 3 elements, one at [0,0], one at [0,1] and one at [1,[0,1]]\" width=300>\n",
    "\n",
    "In this layout the **two barplots** should be on the **top** and the **line plot** at the **bottom**.  \n",
    "Change the following code to get this layout.  \n",
    "\n",
    "\n",
    "<details>\n",
    "    <summary>💡 Hints (only if you are stuck!)</summary>\n",
    "\n",
    "You can build two grids on top of each other using `add_subplot` and slicing or by using `add_gridspec`\n",
    "</details>"
   ]
  },
  {
   "cell_type": "code",
   "execution_count": null,
   "metadata": {},
   "outputs": [],
   "source": [
    "bitcoin = [3,3,4,5,5,6,11,12,13,14,16,14,18,15,19,18,19,15,10,8,9,9,9,12,13]\n",
    "ethereum = [1,1,1,2,2,3,3,4,4,4,4,8,9,12,10,9,14,15,10,8,6,5,5,8,7]\n",
    "euro = [7,7,7,7.6,7,7.8,7,7,7,7,7.6,7,7,7,7,6.8,6.9,7,7,7,7,7,7.2,7.2,7.3]\n",
    "\n",
    "# CHANGE THE FOLLOWING CODE\n",
    "plt.plot(bitcoin)\n",
    "plt.plot(ethereum)\n",
    "plt.plot(euro)\n",
    "plt.show()\n",
    "plt.bar(wallet_2015[\"currency\"], wallet_2015[\"value_in_euro\"])\n",
    "plt.show()\n",
    "plt.bar(wallet_2020[\"currency\"], wallet_2020[\"value_in_euro\"])\n",
    "plt.show();"
   ]
  },
  {
   "cell_type": "code",
   "execution_count": null,
   "metadata": {
    "tags": [
     "challengify"
    ]
   },
   "outputs": [],
   "source": [
    "# YOUR CODE HERE"
   ]
  },
  {
   "cell_type": "markdown",
   "metadata": {},
   "source": [
    "### [Optional] Complex layout\n",
    "\n",
    "This time we will just create the layout with **empty axes** to quickly get to the point.<br>\n",
    "\n",
    "The first layout that you should create is:\n",
    "<img src=\"https://i.ibb.co/s9Yscmp/Screen-Shot-2020-01-21-at-22-17-06.png\" alt=\"layout grid\" width=300>\n",
    "\n",
    "The second layout is:\n",
    "<img src=\"https://i.ibb.co/3FkwzsT/Screen-Shot-2020-01-21-at-22-16-59.png\" alt=\"layout grid 2\" width=300>\n",
    "\n",
    "\n",
    "<details>\n",
    "  <summary>💡Hint</summary>\n",
    "  <p>When the grid becomes too complex to manage, you may want to use <a src='https://matplotlib.org/stable/api/_as_gen/matplotlib.figure.Figure.html#matplotlib.figure.Figure.add_gridspec'>figure.add_gridspec()</a>\n",
    "</p>\n",
    "</details>"
   ]
  },
  {
   "cell_type": "code",
   "execution_count": null,
   "metadata": {
    "tags": [
     "challengify"
    ]
   },
   "outputs": [],
   "source": [
    "# YOUR CODE HERE"
   ]
  },
  {
   "cell_type": "code",
   "execution_count": null,
   "metadata": {
    "tags": [
     "challengify"
    ]
   },
   "outputs": [],
   "source": [
    "# YOUR CODE HERE"
   ]
  }
 ],
 "metadata": {
  "kernelspec": {
   "display_name": "Python 3",
   "language": "python",
   "name": "python3"
  }
 },
 "nbformat": 4,
 "nbformat_minor": 2
}
